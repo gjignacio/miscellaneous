{
 "cells": [
  {
   "cell_type": "markdown",
   "metadata": {},
   "source": [
    "### Funcion de recompensa:"
   ]
  },
  {
   "cell_type": "code",
   "execution_count": 1,
   "metadata": {},
   "outputs": [],
   "source": [
    "import numpy as np\n",
    "def reward_function(params):\n",
    "    \n",
    "    def gaussian(x, mu, sig):\n",
    "        return np.exp(-np.power(x - mu, 2.) / (2 * np.power(sig, 2.)))\n",
    "    \n",
    "    def deltaDeg(direccionAuto, puntoInicial, puntoFinal):\n",
    "        \"\"\" Esta funcion calcula la diferencia en grados (°Deg) entre la orientacion actual\n",
    "            del vehiculo y la orientación de un vector abitrario, definido por dos puntos.\"\"\"\n",
    "        \n",
    "        vector = [puntoFinal[0] - puntoInicial[0], puntoFinal[1] - puntoInicial[1]] #Vector que une la posicion del \n",
    "                                                                                              #auto con el punto arbitrario.\n",
    "        degRumboVector = np.degrees(np.arctan2(vector[1],vector[0])) #Rumbo del vector respecto de la horizontal.\n",
    "        deltaRumbo = np.absolute(degRumboVector - direccionAuto) #Diferencia entre el rumbo del vector y la direccion actual del auto.\n",
    "        return float(deltaRumbo)\n",
    "    \n",
    "    reward = 1e-3\n",
    "    \n",
    "    #Defino mis variables/datos de entrada:\n",
    "    #posicionActual = [params['x'],params['y']] #Posicion actual del vehiculo en el mundo/entorno que contiene la pista.\n",
    "    waypoints = params['waypoints'] #Lista con las coordenadas x,y de los waypoints para la pista dada.\n",
    "    closest_waypoints = params['closest_waypoints'] #Indices de los waypoints mas cercanos a la posicion actual del vehiculo.\n",
    "                                                    #El primer elemento refiere al waypoint pasado más cercano y el segundo\n",
    "                                                    #al proximo waypoint a cruzar.\n",
    "    direccionActual = params['heading'] #Orientación del vehiculo respecto de la horizontal (°Deg, Easting)\n",
    "    \n",
    "    A = 2    #Peso para la recompensa por posicion dentro de la pista.\n",
    "    B = 1    #Pero para la orientacion respecto de la orientacion de la pista.\n",
    "    C = 0.25 #Castigo por salirse de la pista tempranamente.\n",
    "    \n",
    "    #-----------------------------------------------------------------------------------------------------------------------\n",
    "    # POSICION: Recompensas otorgadas en base a la posicion del auto dentro de la pista:\n",
    "    \n",
    "    # Penalizacion por alejarse del centro de la pista:\n",
    "    anchoPista = params['track_width']\n",
    "    distanciaCentro = params['distance_from_center']\n",
    "    if distanciaCentro > anchoPista*0.5:\n",
    "        reward += A*gaussian(x=distanciaCentro, mu=0, sig = anchoPista/2*0.10)\n",
    "    else:\n",
    "        reward = 1e-3    \n",
    "    \n",
    "    #-----------------------------------------------------------------------------------------------------------------------\n",
    "    # ORIENTACION: Recompensas otorgadas en base a la orientacion del auto respecto del rumbo de la pista.\n",
    "    next_Waypoint = waypoints[closest_waypoints[1]]\n",
    "    prev_Waypoint = waypoints[closest_waypoints[0]]\n",
    "    \n",
    "    # Se aproxima la orientación de la pista a partir del vector que unos los waypoints mas proximos, el último en pasar y \n",
    "    # el proximo por alcanzar\n",
    "    deltaRumbo =  deltaDeg(direccionActual, prev_Waypoint, next_Waypoint)\n",
    "    reward += B*gaussian(x = deltaRumbo, mu = 0, sig = 20)\n",
    "\n",
    "    #-----------------------------------------------------------------------------------------------------------------------\n",
    "    # VELOCIDAD:    \n",
    "    # Penalización por doblar bruscamente a altas velocidades:  \n",
    "    anguloGiro = np.abs(params['steering_angle'])\n",
    "    velocidad = np.abs(params['speed'])\n",
    "    if anguloGiro > 25 and velocidad > 2.0:\n",
    "        reward *= C\n",
    "        \n",
    "    #-----------------------------------------------------------------------------------------------------------------------        \n",
    "    # OTROS:\n",
    "    # Descartar todo tipo de recompensa si el auto se salió tempranamente de la pista.\n",
    "    if params[\"all_wheels_on_track\"] == False and params[\"steps\"] < 20:\n",
    "        reward = 1e-3\n",
    "        \n",
    "    return float(reward)"
   ]
  }
 ],
 "metadata": {
  "kernelspec": {
   "display_name": "Python 3",
   "language": "python",
   "name": "python3"
  },
  "language_info": {
   "codemirror_mode": {
    "name": "ipython",
    "version": 3
   },
   "file_extension": ".py",
   "mimetype": "text/x-python",
   "name": "python",
   "nbconvert_exporter": "python",
   "pygments_lexer": "ipython3",
   "version": "3.7.8"
  }
 },
 "nbformat": 4,
 "nbformat_minor": 4
}
